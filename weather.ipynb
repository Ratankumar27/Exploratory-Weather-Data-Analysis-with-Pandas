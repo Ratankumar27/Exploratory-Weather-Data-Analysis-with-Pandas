{
 "cells": [
  {
   "cell_type": "code",
   "execution_count": 2,
   "id": "e793998b-8560-42d1-83ed-5ce9a1a98e1e",
   "metadata": {},
   "outputs": [
    {
     "data": {
      "text/html": [
       "<div>\n",
       "<style scoped>\n",
       "    .dataframe tbody tr th:only-of-type {\n",
       "        vertical-align: middle;\n",
       "    }\n",
       "\n",
       "    .dataframe tbody tr th {\n",
       "        vertical-align: top;\n",
       "    }\n",
       "\n",
       "    .dataframe thead th {\n",
       "        text-align: right;\n",
       "    }\n",
       "</style>\n",
       "<table border=\"1\" class=\"dataframe\">\n",
       "  <thead>\n",
       "    <tr style=\"text-align: right;\">\n",
       "      <th></th>\n",
       "      <th>Date/Time</th>\n",
       "      <th>Temp_C</th>\n",
       "      <th>Dew Point Temp_C</th>\n",
       "      <th>Rel Hum_%</th>\n",
       "      <th>Wind Speed_km/h</th>\n",
       "      <th>Visibility_km</th>\n",
       "      <th>Press_kPa</th>\n",
       "      <th>Weather</th>\n",
       "    </tr>\n",
       "  </thead>\n",
       "  <tbody>\n",
       "    <tr>\n",
       "      <th>0</th>\n",
       "      <td>1/1/2012 0:00</td>\n",
       "      <td>-1.8</td>\n",
       "      <td>-3.9</td>\n",
       "      <td>86</td>\n",
       "      <td>4</td>\n",
       "      <td>8.0</td>\n",
       "      <td>101.24</td>\n",
       "      <td>Fog</td>\n",
       "    </tr>\n",
       "    <tr>\n",
       "      <th>1</th>\n",
       "      <td>1/1/2012 1:00</td>\n",
       "      <td>-1.8</td>\n",
       "      <td>-3.7</td>\n",
       "      <td>87</td>\n",
       "      <td>4</td>\n",
       "      <td>8.0</td>\n",
       "      <td>101.24</td>\n",
       "      <td>Fog</td>\n",
       "    </tr>\n",
       "    <tr>\n",
       "      <th>2</th>\n",
       "      <td>1/1/2012 2:00</td>\n",
       "      <td>-1.8</td>\n",
       "      <td>-3.4</td>\n",
       "      <td>89</td>\n",
       "      <td>7</td>\n",
       "      <td>4.0</td>\n",
       "      <td>101.26</td>\n",
       "      <td>Freezing Drizzle,Fog</td>\n",
       "    </tr>\n",
       "    <tr>\n",
       "      <th>3</th>\n",
       "      <td>1/1/2012 3:00</td>\n",
       "      <td>-1.5</td>\n",
       "      <td>-3.2</td>\n",
       "      <td>88</td>\n",
       "      <td>6</td>\n",
       "      <td>4.0</td>\n",
       "      <td>101.27</td>\n",
       "      <td>Freezing Drizzle,Fog</td>\n",
       "    </tr>\n",
       "    <tr>\n",
       "      <th>4</th>\n",
       "      <td>1/1/2012 4:00</td>\n",
       "      <td>-1.5</td>\n",
       "      <td>-3.3</td>\n",
       "      <td>88</td>\n",
       "      <td>7</td>\n",
       "      <td>4.8</td>\n",
       "      <td>101.23</td>\n",
       "      <td>Fog</td>\n",
       "    </tr>\n",
       "  </tbody>\n",
       "</table>\n",
       "</div>"
      ],
      "text/plain": [
       "       Date/Time  Temp_C  Dew Point Temp_C  Rel Hum_%  Wind Speed_km/h  \\\n",
       "0  1/1/2012 0:00    -1.8              -3.9         86                4   \n",
       "1  1/1/2012 1:00    -1.8              -3.7         87                4   \n",
       "2  1/1/2012 2:00    -1.8              -3.4         89                7   \n",
       "3  1/1/2012 3:00    -1.5              -3.2         88                6   \n",
       "4  1/1/2012 4:00    -1.5              -3.3         88                7   \n",
       "\n",
       "   Visibility_km  Press_kPa               Weather  \n",
       "0            8.0     101.24                   Fog  \n",
       "1            8.0     101.24                   Fog  \n",
       "2            4.0     101.26  Freezing Drizzle,Fog  \n",
       "3            4.0     101.27  Freezing Drizzle,Fog  \n",
       "4            4.8     101.23                   Fog  "
      ]
     },
     "execution_count": 2,
     "metadata": {},
     "output_type": "execute_result"
    }
   ],
   "source": [
    "import pandas as pd\n",
    "data=pd.read_csv(\"Weather Data.csv\")\n",
    "\n",
    "#to check the first five rows\n",
    "data.head()"
   ]
  },
  {
   "cell_type": "code",
   "execution_count": 3,
   "id": "5399bd28-c57c-477d-bf8b-b689080f4fb7",
   "metadata": {},
   "outputs": [
    {
     "data": {
      "text/plain": [
       "(8784, 8)"
      ]
     },
     "execution_count": 3,
     "metadata": {},
     "output_type": "execute_result"
    }
   ],
   "source": [
    "#to check how many rows and colums \n",
    "data.shape  "
   ]
  },
  {
   "cell_type": "code",
   "execution_count": 4,
   "id": "5f06323b-8101-4a56-b6fa-1bee76f5332e",
   "metadata": {},
   "outputs": [
    {
     "name": "stdout",
     "output_type": "stream",
     "text": [
      "RangeIndex(start=0, stop=8784, step=1)\n"
     ]
    }
   ],
   "source": [
    "#to check indexes\n",
    "print(data.index)  #RangeIndex(start=0, stop=8784, step=1)"
   ]
  },
  {
   "cell_type": "code",
   "execution_count": 5,
   "id": "8e599647-8594-4a90-8e42-8d1756a6f085",
   "metadata": {},
   "outputs": [
    {
     "name": "stdout",
     "output_type": "stream",
     "text": [
      "Index(['Date/Time', 'Temp_C', 'Dew Point Temp_C', 'Rel Hum_%',\n",
      "       'Wind Speed_km/h', 'Visibility_km', 'Press_kPa', 'Weather'],\n",
      "      dtype='object')\n"
     ]
    }
   ],
   "source": [
    "# to check column names\n",
    "print(data.columns)  "
   ]
  },
  {
   "cell_type": "code",
   "execution_count": 6,
   "id": "7c584d8e-c55b-4a07-8fb9-c34d720e899a",
   "metadata": {},
   "outputs": [
    {
     "name": "stdout",
     "output_type": "stream",
     "text": [
      "Date/Time            object\n",
      "Temp_C              float64\n",
      "Dew Point Temp_C    float64\n",
      "Rel Hum_%             int64\n",
      "Wind Speed_km/h       int64\n",
      "Visibility_km       float64\n",
      "Press_kPa           float64\n",
      "Weather              object\n",
      "dtype: object\n"
     ]
    }
   ],
   "source": [
    "#to check datatypes of columns\n",
    "print(data.dtypes)"
   ]
  },
  {
   "cell_type": "code",
   "execution_count": 7,
   "id": "18df928e-82de-4922-84a0-63e8179a30bc",
   "metadata": {},
   "outputs": [
    {
     "name": "stdout",
     "output_type": "stream",
     "text": [
      "['Fog' 'Freezing Drizzle,Fog' 'Mostly Cloudy' 'Cloudy' 'Rain'\n",
      " 'Rain Showers' 'Mainly Clear' 'Snow Showers' 'Snow' 'Clear'\n",
      " 'Freezing Rain,Fog' 'Freezing Rain' 'Freezing Drizzle' 'Rain,Snow'\n",
      " 'Moderate Snow' 'Freezing Drizzle,Snow' 'Freezing Rain,Snow Grains'\n",
      " 'Snow,Blowing Snow' 'Freezing Fog' 'Haze' 'Rain,Fog' 'Drizzle,Fog'\n",
      " 'Drizzle' 'Freezing Drizzle,Haze' 'Freezing Rain,Haze' 'Snow,Haze'\n",
      " 'Snow,Fog' 'Snow,Ice Pellets' 'Rain,Haze' 'Thunderstorms,Rain'\n",
      " 'Thunderstorms,Rain Showers' 'Thunderstorms,Heavy Rain Showers'\n",
      " 'Thunderstorms,Rain Showers,Fog' 'Thunderstorms' 'Thunderstorms,Rain,Fog'\n",
      " 'Thunderstorms,Moderate Rain Showers,Fog' 'Rain Showers,Fog'\n",
      " 'Rain Showers,Snow Showers' 'Snow Pellets' 'Rain,Snow,Fog'\n",
      " 'Moderate Rain,Fog' 'Freezing Rain,Ice Pellets,Fog'\n",
      " 'Drizzle,Ice Pellets,Fog' 'Drizzle,Snow' 'Rain,Ice Pellets'\n",
      " 'Drizzle,Snow,Fog' 'Rain,Snow Grains' 'Rain,Snow,Ice Pellets'\n",
      " 'Snow Showers,Fog' 'Moderate Snow,Blowing Snow']\n"
     ]
    }
   ],
   "source": [
    "# to check unique values in specific column  , works only on single column\n",
    "print( data[\"Weather\"].unique() )"
   ]
  },
  {
   "cell_type": "code",
   "execution_count": 8,
   "id": "0a65caa4-9aa9-4f6f-9b74-961839b13aa5",
   "metadata": {},
   "outputs": [
    {
     "name": "stdout",
     "output_type": "stream",
     "text": [
      "Date/Time           8784\n",
      "Temp_C               533\n",
      "Dew Point Temp_C     489\n",
      "Rel Hum_%             83\n",
      "Wind Speed_km/h       34\n",
      "Visibility_km         24\n",
      "Press_kPa            518\n",
      "Weather               50\n",
      "dtype: int64\n"
     ]
    }
   ],
   "source": [
    "#to check how many unique values are there in every column\n",
    "print( data.nunique() )"
   ]
  },
  {
   "cell_type": "code",
   "execution_count": 9,
   "id": "519253c6-671b-4fa2-ad20-4dc8fe84ccb7",
   "metadata": {},
   "outputs": [
    {
     "name": "stdout",
     "output_type": "stream",
     "text": [
      "Date/Time           8784\n",
      "Temp_C              8784\n",
      "Dew Point Temp_C    8784\n",
      "Rel Hum_%           8784\n",
      "Wind Speed_km/h     8784\n",
      "Visibility_km       8784\n",
      "Press_kPa           8784\n",
      "Weather             8784\n",
      "dtype: int64\n"
     ]
    }
   ],
   "source": [
    "#to check total numbers of non null value\n",
    "print( data.count() )    # there are no null values"
   ]
  },
  {
   "cell_type": "code",
   "execution_count": 10,
   "id": "607f5145-73a4-4cbe-be65-97665491607c",
   "metadata": {},
   "outputs": [
    {
     "name": "stdout",
     "output_type": "stream",
     "text": [
      "Weather\n",
      "Mainly Clear                               2106\n",
      "Mostly Cloudy                              2069\n",
      "Cloudy                                     1728\n",
      "Clear                                      1326\n",
      "Snow                                        390\n",
      "Rain                                        306\n",
      "Rain Showers                                188\n",
      "Fog                                         150\n",
      "Rain,Fog                                    116\n",
      "Drizzle,Fog                                  80\n",
      "Snow Showers                                 60\n",
      "Drizzle                                      41\n",
      "Snow,Fog                                     37\n",
      "Snow,Blowing Snow                            19\n",
      "Rain,Snow                                    18\n",
      "Thunderstorms,Rain Showers                   16\n",
      "Haze                                         16\n",
      "Drizzle,Snow,Fog                             15\n",
      "Freezing Rain                                14\n",
      "Freezing Drizzle,Snow                        11\n",
      "Freezing Drizzle                              7\n",
      "Snow,Ice Pellets                              6\n",
      "Freezing Drizzle,Fog                          6\n",
      "Snow,Haze                                     5\n",
      "Freezing Fog                                  4\n",
      "Snow Showers,Fog                              4\n",
      "Moderate Snow                                 4\n",
      "Rain,Snow,Ice Pellets                         4\n",
      "Freezing Rain,Fog                             4\n",
      "Freezing Drizzle,Haze                         3\n",
      "Rain,Haze                                     3\n",
      "Thunderstorms,Rain                            3\n",
      "Thunderstorms,Rain Showers,Fog                3\n",
      "Freezing Rain,Haze                            2\n",
      "Drizzle,Snow                                  2\n",
      "Rain Showers,Snow Showers                     2\n",
      "Thunderstorms                                 2\n",
      "Moderate Snow,Blowing Snow                    2\n",
      "Rain Showers,Fog                              1\n",
      "Thunderstorms,Moderate Rain Showers,Fog       1\n",
      "Snow Pellets                                  1\n",
      "Rain,Snow,Fog                                 1\n",
      "Moderate Rain,Fog                             1\n",
      "Freezing Rain,Ice Pellets,Fog                 1\n",
      "Drizzle,Ice Pellets,Fog                       1\n",
      "Thunderstorms,Rain,Fog                        1\n",
      "Rain,Ice Pellets                              1\n",
      "Rain,Snow Grains                              1\n",
      "Thunderstorms,Heavy Rain Showers              1\n",
      "Freezing Rain,Snow Grains                     1\n",
      "Name: count, dtype: int64\n"
     ]
    }
   ],
   "source": [
    "# to check unique values with their total counts in single column\n",
    "print(data[\"Weather\"].value_counts())"
   ]
  },
  {
   "cell_type": "code",
   "execution_count": 11,
   "id": "7c93c7bb-8d69-4b96-a6a4-ef41d9bbcc90",
   "metadata": {},
   "outputs": [
    {
     "name": "stdout",
     "output_type": "stream",
     "text": [
      "<class 'pandas.core.frame.DataFrame'>\n",
      "RangeIndex: 8784 entries, 0 to 8783\n",
      "Data columns (total 8 columns):\n",
      " #   Column            Non-Null Count  Dtype  \n",
      "---  ------            --------------  -----  \n",
      " 0   Date/Time         8784 non-null   object \n",
      " 1   Temp_C            8784 non-null   float64\n",
      " 2   Dew Point Temp_C  8784 non-null   float64\n",
      " 3   Rel Hum_%         8784 non-null   int64  \n",
      " 4   Wind Speed_km/h   8784 non-null   int64  \n",
      " 5   Visibility_km     8784 non-null   float64\n",
      " 6   Press_kPa         8784 non-null   float64\n",
      " 7   Weather           8784 non-null   object \n",
      "dtypes: float64(4), int64(2), object(2)\n",
      "memory usage: 549.1+ KB\n",
      "None\n"
     ]
    }
   ],
   "source": [
    "# to get basic information\n",
    "print(data.info())"
   ]
  },
  {
   "cell_type": "code",
   "execution_count": 12,
   "id": "0ada87ab-db7f-4da9-8354-979d994aa053",
   "metadata": {},
   "outputs": [
    {
     "name": "stdout",
     "output_type": "stream",
     "text": [
      "[ 4  7  6  9 15 13 20 22 19 24 30 35 39 32 33 26 44 43 48 37 28 17 11  0\n",
      " 83 70 57 46 41 52 50 63 54  2]\n"
     ]
    }
   ],
   "source": [
    "#Find all the unique \"Wind Speed\" in the data\n",
    "print(data['Wind Speed_km/h'].unique())"
   ]
  },
  {
   "cell_type": "code",
   "execution_count": 13,
   "id": "88778cf4-57cf-4c03-ae14-500214ec06ae",
   "metadata": {},
   "outputs": [
    {
     "name": "stdout",
     "output_type": "stream",
     "text": [
      "34\n"
     ]
    }
   ],
   "source": [
    "print(data[\"Wind Speed_km/h\"].nunique())"
   ]
  },
  {
   "cell_type": "code",
   "execution_count": 14,
   "id": "bb677528-701f-4dc7-82d1-1182ccdde3cf",
   "metadata": {},
   "outputs": [
    {
     "name": "stdout",
     "output_type": "stream",
     "text": [
      "Weather\n",
      "Mainly Clear                               2106\n",
      "Mostly Cloudy                              2069\n",
      "Cloudy                                     1728\n",
      "Clear                                      1326\n",
      "Snow                                        390\n",
      "Rain                                        306\n",
      "Rain Showers                                188\n",
      "Fog                                         150\n",
      "Rain,Fog                                    116\n",
      "Drizzle,Fog                                  80\n",
      "Snow Showers                                 60\n",
      "Drizzle                                      41\n",
      "Snow,Fog                                     37\n",
      "Snow,Blowing Snow                            19\n",
      "Rain,Snow                                    18\n",
      "Thunderstorms,Rain Showers                   16\n",
      "Haze                                         16\n",
      "Drizzle,Snow,Fog                             15\n",
      "Freezing Rain                                14\n",
      "Freezing Drizzle,Snow                        11\n",
      "Freezing Drizzle                              7\n",
      "Snow,Ice Pellets                              6\n",
      "Freezing Drizzle,Fog                          6\n",
      "Snow,Haze                                     5\n",
      "Freezing Fog                                  4\n",
      "Snow Showers,Fog                              4\n",
      "Moderate Snow                                 4\n",
      "Rain,Snow,Ice Pellets                         4\n",
      "Freezing Rain,Fog                             4\n",
      "Freezing Drizzle,Haze                         3\n",
      "Rain,Haze                                     3\n",
      "Thunderstorms,Rain                            3\n",
      "Thunderstorms,Rain Showers,Fog                3\n",
      "Freezing Rain,Haze                            2\n",
      "Drizzle,Snow                                  2\n",
      "Rain Showers,Snow Showers                     2\n",
      "Thunderstorms                                 2\n",
      "Moderate Snow,Blowing Snow                    2\n",
      "Rain Showers,Fog                              1\n",
      "Thunderstorms,Moderate Rain Showers,Fog       1\n",
      "Snow Pellets                                  1\n",
      "Rain,Snow,Fog                                 1\n",
      "Moderate Rain,Fog                             1\n",
      "Freezing Rain,Ice Pellets,Fog                 1\n",
      "Drizzle,Ice Pellets,Fog                       1\n",
      "Thunderstorms,Rain,Fog                        1\n",
      "Rain,Ice Pellets                              1\n",
      "Rain,Snow Grains                              1\n",
      "Thunderstorms,Heavy Rain Showers              1\n",
      "Freezing Rain,Snow Grains                     1\n",
      "Name: count, dtype: int64\n"
     ]
    }
   ],
   "source": [
    "# Find the number of times when the Weather is exactly clear  , there are 3 methods\n",
    "print( data[\"Weather\"].value_counts())   #1st"
   ]
  },
  {
   "cell_type": "code",
   "execution_count": 15,
   "id": "6131f310-23c4-4dc8-af08-40a4dd534478",
   "metadata": {},
   "outputs": [
    {
     "name": "stdout",
     "output_type": "stream",
     "text": [
      "             Date/Time  Temp_C  Dew Point Temp_C  Rel Hum_%  Wind Speed_km/h  \\\n",
      "67      1/3/2012 19:00   -16.9             -24.8         50               24   \n",
      "114     1/5/2012 18:00    -7.1             -14.4         56               11   \n",
      "115     1/5/2012 19:00    -9.2             -15.4         61                7   \n",
      "116     1/5/2012 20:00    -9.8             -15.7         62                9   \n",
      "117     1/5/2012 21:00    -9.0             -14.8         63               13   \n",
      "...                ...     ...               ...        ...              ...   \n",
      "8646   12/26/2012 6:00   -13.4             -14.8         89                4   \n",
      "8698  12/28/2012 10:00    -6.1              -8.6         82               19   \n",
      "8713   12/29/2012 1:00   -11.9             -13.6         87               11   \n",
      "8714   12/29/2012 2:00   -11.8             -13.1         90               13   \n",
      "8756  12/30/2012 20:00   -13.8             -16.5         80               24   \n",
      "\n",
      "      Visibility_km  Press_kPa Weather  \n",
      "67             25.0     101.74   Clear  \n",
      "114            25.0     100.71   Clear  \n",
      "115            25.0     100.80   Clear  \n",
      "116            25.0     100.83   Clear  \n",
      "117            25.0     100.83   Clear  \n",
      "...             ...        ...     ...  \n",
      "8646           25.0     102.47   Clear  \n",
      "8698           24.1     101.27   Clear  \n",
      "8713           25.0     101.31   Clear  \n",
      "8714           25.0     101.33   Clear  \n",
      "8756           25.0     101.52   Clear  \n",
      "\n",
      "[1326 rows x 8 columns]\n"
     ]
    }
   ],
   "source": [
    "print(data.groupby(\"Weather\").get_group(\"Clear\"))   #2nd"
   ]
  },
  {
   "cell_type": "code",
   "execution_count": 16,
   "id": "1a3822b4-943e-438d-836d-7bc4f723f48b",
   "metadata": {},
   "outputs": [
    {
     "name": "stdout",
     "output_type": "stream",
     "text": [
      "             Date/Time  Temp_C  Dew Point Temp_C  Rel Hum_%  Wind Speed_km/h  \\\n",
      "67      1/3/2012 19:00   -16.9             -24.8         50               24   \n",
      "114     1/5/2012 18:00    -7.1             -14.4         56               11   \n",
      "115     1/5/2012 19:00    -9.2             -15.4         61                7   \n",
      "116     1/5/2012 20:00    -9.8             -15.7         62                9   \n",
      "117     1/5/2012 21:00    -9.0             -14.8         63               13   \n",
      "...                ...     ...               ...        ...              ...   \n",
      "8646   12/26/2012 6:00   -13.4             -14.8         89                4   \n",
      "8698  12/28/2012 10:00    -6.1              -8.6         82               19   \n",
      "8713   12/29/2012 1:00   -11.9             -13.6         87               11   \n",
      "8714   12/29/2012 2:00   -11.8             -13.1         90               13   \n",
      "8756  12/30/2012 20:00   -13.8             -16.5         80               24   \n",
      "\n",
      "      Visibility_km  Press_kPa Weather  \n",
      "67             25.0     101.74   Clear  \n",
      "114            25.0     100.71   Clear  \n",
      "115            25.0     100.80   Clear  \n",
      "116            25.0     100.83   Clear  \n",
      "117            25.0     100.83   Clear  \n",
      "...             ...        ...     ...  \n",
      "8646           25.0     102.47   Clear  \n",
      "8698           24.1     101.27   Clear  \n",
      "8713           25.0     101.31   Clear  \n",
      "8714           25.0     101.33   Clear  \n",
      "8756           25.0     101.52   Clear  \n",
      "\n",
      "[1326 rows x 8 columns]\n"
     ]
    }
   ],
   "source": [
    "print(data[data.Weather==\"Clear\"])"
   ]
  },
  {
   "cell_type": "code",
   "execution_count": 17,
   "id": "2815636c-8804-4750-8d6a-9d84f86e6850",
   "metadata": {},
   "outputs": [
    {
     "name": "stdout",
     "output_type": "stream",
     "text": [
      "Wind Speed_km/h\n",
      "9     830\n",
      "11    791\n",
      "13    735\n",
      "15    719\n",
      "7     677\n",
      "17    666\n",
      "19    616\n",
      "6     609\n",
      "20    496\n",
      "4     474\n",
      "22    439\n",
      "24    374\n",
      "0     309\n",
      "26    242\n",
      "28    205\n",
      "30    161\n",
      "32    139\n",
      "33     85\n",
      "35     53\n",
      "37     45\n",
      "39     24\n",
      "41     22\n",
      "44     14\n",
      "43     13\n",
      "48     13\n",
      "46     11\n",
      "52      7\n",
      "57      5\n",
      "50      4\n",
      "2       2\n",
      "83      1\n",
      "70      1\n",
      "63      1\n",
      "54      1\n",
      "Name: count, dtype: int64\n"
     ]
    }
   ],
   "source": [
    "# Find the number of times when the Wind speed was exacty 4km\n",
    "print(data[\"Wind Speed_km/h\"].value_counts())  #474   1st method"
   ]
  },
  {
   "cell_type": "code",
   "execution_count": 18,
   "id": "69573e2c-cdce-4483-9360-ca82e449b975",
   "metadata": {},
   "outputs": [
    {
     "name": "stdout",
     "output_type": "stream",
     "text": [
      "             Date/Time  Temp_C  Dew Point Temp_C  Rel Hum_%  Wind Speed_km/h  \\\n",
      "0        1/1/2012 0:00    -1.8              -3.9         86                4   \n",
      "1        1/1/2012 1:00    -1.8              -3.7         87                4   \n",
      "96       1/5/2012 0:00    -8.8             -11.7         79                4   \n",
      "101      1/5/2012 5:00    -7.0              -9.5         82                4   \n",
      "146      1/7/2012 2:00    -8.1             -11.1         79                4   \n",
      "...                ...     ...               ...        ...              ...   \n",
      "8768   12/31/2012 8:00    -8.6             -10.3         87                4   \n",
      "8769   12/31/2012 9:00    -8.1              -9.6         89                4   \n",
      "8770  12/31/2012 10:00    -7.4              -8.9         89                4   \n",
      "8772  12/31/2012 12:00    -5.8              -7.5         88                4   \n",
      "8773  12/31/2012 13:00    -4.6              -6.6         86                4   \n",
      "\n",
      "      Visibility_km  Press_kPa       Weather  \n",
      "0               8.0     101.24           Fog  \n",
      "1               8.0     101.24           Fog  \n",
      "96              9.7     100.32          Snow  \n",
      "101             4.0     100.19          Snow  \n",
      "146            19.3     100.15        Cloudy  \n",
      "...             ...        ...           ...  \n",
      "8768            3.2     101.14  Snow Showers  \n",
      "8769            2.4     101.09          Snow  \n",
      "8770            6.4     101.05      Snow,Fog  \n",
      "8772           12.9     100.78          Snow  \n",
      "8773           12.9     100.63          Snow  \n",
      "\n",
      "[474 rows x 8 columns]\n"
     ]
    }
   ],
   "source": [
    "print(data.groupby(\"Wind Speed_km/h\").get_group(4))  #2nd method"
   ]
  },
  {
   "cell_type": "code",
   "execution_count": 19,
   "id": "0b88d2d4-22aa-4e63-8bce-568bd34d46fe",
   "metadata": {},
   "outputs": [
    {
     "name": "stdout",
     "output_type": "stream",
     "text": [
      "             Date/Time  Temp_C  Dew Point Temp_C  Rel Hum_%  Wind Speed_km/h  \\\n",
      "0        1/1/2012 0:00    -1.8              -3.9         86                4   \n",
      "1        1/1/2012 1:00    -1.8              -3.7         87                4   \n",
      "96       1/5/2012 0:00    -8.8             -11.7         79                4   \n",
      "101      1/5/2012 5:00    -7.0              -9.5         82                4   \n",
      "146      1/7/2012 2:00    -8.1             -11.1         79                4   \n",
      "...                ...     ...               ...        ...              ...   \n",
      "8768   12/31/2012 8:00    -8.6             -10.3         87                4   \n",
      "8769   12/31/2012 9:00    -8.1              -9.6         89                4   \n",
      "8770  12/31/2012 10:00    -7.4              -8.9         89                4   \n",
      "8772  12/31/2012 12:00    -5.8              -7.5         88                4   \n",
      "8773  12/31/2012 13:00    -4.6              -6.6         86                4   \n",
      "\n",
      "      Visibility_km  Press_kPa       Weather  \n",
      "0               8.0     101.24           Fog  \n",
      "1               8.0     101.24           Fog  \n",
      "96              9.7     100.32          Snow  \n",
      "101             4.0     100.19          Snow  \n",
      "146            19.3     100.15        Cloudy  \n",
      "...             ...        ...           ...  \n",
      "8768            3.2     101.14  Snow Showers  \n",
      "8769            2.4     101.09          Snow  \n",
      "8770            6.4     101.05      Snow,Fog  \n",
      "8772           12.9     100.78          Snow  \n",
      "8773           12.9     100.63          Snow  \n",
      "\n",
      "[474 rows x 8 columns]\n"
     ]
    }
   ],
   "source": [
    "print(data[data[\"Wind Speed_km/h\"] == 4])   #3rd method"
   ]
  },
  {
   "cell_type": "code",
   "execution_count": 20,
   "id": "0c3f4ef3-9c2d-4e12-bce9-e6e6e9538268",
   "metadata": {},
   "outputs": [
    {
     "name": "stdout",
     "output_type": "stream",
     "text": [
      "Date/Time           0\n",
      "Temp_C              0\n",
      "Dew Point Temp_C    0\n",
      "Rel Hum_%           0\n",
      "Wind Speed_km/h     0\n",
      "Visibility_km       0\n",
      "Press_kPa           0\n",
      "Weather             0\n",
      "dtype: int64\n"
     ]
    }
   ],
   "source": [
    "# Find out the null values in the data\n",
    "print(data.isnull().sum())   #  1st method"
   ]
  },
  {
   "cell_type": "code",
   "execution_count": 21,
   "id": "abec7785-fbd7-4a2a-82f2-c1ac088030b0",
   "metadata": {},
   "outputs": [
    {
     "name": "stdout",
     "output_type": "stream",
     "text": [
      "Date/Time           8784\n",
      "Temp_C              8784\n",
      "Dew Point Temp_C    8784\n",
      "Rel Hum_%           8784\n",
      "Wind Speed_km/h     8784\n",
      "Visibility_km       8784\n",
      "Press_kPa           8784\n",
      "Weather             8784\n",
      "dtype: int64\n"
     ]
    }
   ],
   "source": [
    "print(data.count())   #2nd method"
   ]
  },
  {
   "cell_type": "code",
   "execution_count": 22,
   "id": "2f5800be-0d6a-40bc-8f4a-36e917df8c1a",
   "metadata": {},
   "outputs": [
    {
     "name": "stdout",
     "output_type": "stream",
     "text": [
      "             Date/Time  Temp_C  Dew Point Temp_C  Rel Hum_%  Wind Speed_km/h  \\\n",
      "0        1/1/2012 0:00    -1.8              -3.9         86                4   \n",
      "1        1/1/2012 1:00    -1.8              -3.7         87                4   \n",
      "2        1/1/2012 2:00    -1.8              -3.4         89                7   \n",
      "3        1/1/2012 3:00    -1.5              -3.2         88                6   \n",
      "4        1/1/2012 4:00    -1.5              -3.3         88                7   \n",
      "...                ...     ...               ...        ...              ...   \n",
      "8779  12/31/2012 19:00     0.1              -2.7         81               30   \n",
      "8780  12/31/2012 20:00     0.2              -2.4         83               24   \n",
      "8781  12/31/2012 21:00    -0.5              -1.5         93               28   \n",
      "8782  12/31/2012 22:00    -0.2              -1.8         89               28   \n",
      "8783  12/31/2012 23:00     0.0              -2.1         86               30   \n",
      "\n",
      "      Visibility_km  Press_kPa     Weather Condition  \n",
      "0               8.0     101.24                   Fog  \n",
      "1               8.0     101.24                   Fog  \n",
      "2               4.0     101.26  Freezing Drizzle,Fog  \n",
      "3               4.0     101.27  Freezing Drizzle,Fog  \n",
      "4               4.8     101.23                   Fog  \n",
      "...             ...        ...                   ...  \n",
      "8779            9.7     100.13                  Snow  \n",
      "8780            9.7     100.03                  Snow  \n",
      "8781            4.8      99.95                  Snow  \n",
      "8782            9.7      99.91                  Snow  \n",
      "8783           11.3      99.89                  Snow  \n",
      "\n",
      "[8784 rows x 8 columns]\n"
     ]
    }
   ],
   "source": [
    "# Rename the column name Weateh to Weather Condition\n",
    "print(data.rename(columns={\"Weather\":\"Weather Condition\"}))    #this is only temporary, if inpalce =True than its permanent"
   ]
  },
  {
   "cell_type": "code",
   "execution_count": 23,
   "id": "483613df-f472-4e84-9ce3-302985faaf49",
   "metadata": {},
   "outputs": [
    {
     "name": "stdout",
     "output_type": "stream",
     "text": [
      "27.664446721311478\n"
     ]
    }
   ],
   "source": [
    "# What is the mean of Visibility\n",
    "print( data[\"Visibility_km\"].mean() )"
   ]
  },
  {
   "cell_type": "code",
   "execution_count": 24,
   "id": "8fa314b1-b785-47fb-9042-bebbe2be7b7f",
   "metadata": {},
   "outputs": [
    {
     "name": "stdout",
     "output_type": "stream",
     "text": [
      "0.8440047459486474\n"
     ]
    }
   ],
   "source": [
    "# What is standard deviation of Presseure\n",
    "print( data[\"Press_kPa\"].std() )"
   ]
  },
  {
   "cell_type": "code",
   "execution_count": 25,
   "id": "86ecf4e8-e7d9-47be-939c-8aa01558c35d",
   "metadata": {},
   "outputs": [
    {
     "name": "stdout",
     "output_type": "stream",
     "text": [
      "286.2485501984998\n"
     ]
    }
   ],
   "source": [
    "# What is the variance od relative humidity\n",
    "print( data[\"Rel Hum_%\"].var() )"
   ]
  },
  {
   "cell_type": "code",
   "execution_count": 26,
   "id": "01bf45e5-68a2-4d4d-9eb2-e8e0f12b49d4",
   "metadata": {},
   "outputs": [
    {
     "name": "stdout",
     "output_type": "stream",
     "text": [
      "             Date/Time  Temp_C  Dew Point Temp_C  Rel Hum_%  Wind Speed_km/h  \\\n",
      "55       1/3/2012 7:00   -14.0             -19.5         63               19   \n",
      "84      1/4/2012 12:00   -13.7             -21.7         51               11   \n",
      "86      1/4/2012 14:00   -11.3             -19.0         53                7   \n",
      "87      1/4/2012 15:00   -10.2             -16.3         61               11   \n",
      "88      1/4/2012 16:00    -9.4             -15.5         61               13   \n",
      "...                ...     ...               ...        ...              ...   \n",
      "8779  12/31/2012 19:00     0.1              -2.7         81               30   \n",
      "8780  12/31/2012 20:00     0.2              -2.4         83               24   \n",
      "8781  12/31/2012 21:00    -0.5              -1.5         93               28   \n",
      "8782  12/31/2012 22:00    -0.2              -1.8         89               28   \n",
      "8783  12/31/2012 23:00     0.0              -2.1         86               30   \n",
      "\n",
      "      Visibility_km  Press_kPa Weather  \n",
      "55             25.0     100.95    Snow  \n",
      "84             24.1     101.25    Snow  \n",
      "86             19.3     100.97    Snow  \n",
      "87              9.7     100.89    Snow  \n",
      "88             19.3     100.79    Snow  \n",
      "...             ...        ...     ...  \n",
      "8779            9.7     100.13    Snow  \n",
      "8780            9.7     100.03    Snow  \n",
      "8781            4.8      99.95    Snow  \n",
      "8782            9.7      99.91    Snow  \n",
      "8783           11.3      99.89    Snow  \n",
      "\n",
      "[390 rows x 8 columns]\n"
     ]
    }
   ],
   "source": [
    "# Find all the instances when Snow was recorded\n",
    "print( data[data[\"Weather\"]==\"Snow\"])"
   ]
  },
  {
   "cell_type": "code",
   "execution_count": 27,
   "id": "b22fbaaf-a170-4a07-8b54-fcb16de24837",
   "metadata": {},
   "outputs": [
    {
     "name": "stdout",
     "output_type": "stream",
     "text": [
      "             Date/Time  Temp_C  Dew Point Temp_C  Rel Hum_%  Wind Speed_km/h  \\\n",
      "41      1/2/2012 17:00    -2.1              -9.5         57               22   \n",
      "44      1/2/2012 20:00    -5.6             -13.4         54               24   \n",
      "45      1/2/2012 21:00    -5.8             -12.8         58               26   \n",
      "47      1/2/2012 23:00    -7.4             -14.1         59               17   \n",
      "48       1/3/2012 0:00    -9.0             -16.0         57               28   \n",
      "...                ...     ...               ...        ...              ...   \n",
      "8779  12/31/2012 19:00     0.1              -2.7         81               30   \n",
      "8780  12/31/2012 20:00     0.2              -2.4         83               24   \n",
      "8781  12/31/2012 21:00    -0.5              -1.5         93               28   \n",
      "8782  12/31/2012 22:00    -0.2              -1.8         89               28   \n",
      "8783  12/31/2012 23:00     0.0              -2.1         86               30   \n",
      "\n",
      "      Visibility_km  Press_kPa       Weather  \n",
      "41             25.0      99.66  Snow Showers  \n",
      "44             25.0     100.07  Snow Showers  \n",
      "45             25.0     100.15  Snow Showers  \n",
      "47             19.3     100.27  Snow Showers  \n",
      "48             25.0     100.35  Snow Showers  \n",
      "...             ...        ...           ...  \n",
      "8779            9.7     100.13          Snow  \n",
      "8780            9.7     100.03          Snow  \n",
      "8781            4.8      99.95          Snow  \n",
      "8782            9.7      99.91          Snow  \n",
      "8783           11.3      99.89          Snow  \n",
      "\n",
      "[583 rows x 8 columns]\n"
     ]
    }
   ],
   "source": [
    "print(data[ data[\"Weather\"].str.contains(\"Snow\")])   # this gives data wherever the snow word is present"
   ]
  },
  {
   "cell_type": "code",
   "execution_count": 28,
   "id": "33eebf5d-0237-4783-aa7d-c1c941031e92",
   "metadata": {},
   "outputs": [
    {
     "name": "stdout",
     "output_type": "stream",
     "text": [
      "             Date/Time  Temp_C  Dew Point Temp_C  Rel Hum_%  Wind Speed_km/h  \\\n",
      "23      1/1/2012 23:00     5.3               2.0         79               30   \n",
      "24       1/2/2012 0:00     5.2               1.5         77               35   \n",
      "25       1/2/2012 1:00     4.6               0.0         72               39   \n",
      "26       1/2/2012 2:00     3.9              -0.9         71               32   \n",
      "27       1/2/2012 3:00     3.7              -1.5         69               33   \n",
      "...                ...     ...               ...        ...              ...   \n",
      "8705  12/28/2012 17:00    -8.6             -12.0         76               26   \n",
      "8753  12/30/2012 17:00   -12.1             -15.8         74               28   \n",
      "8755  12/30/2012 19:00   -13.4             -16.5         77               26   \n",
      "8759  12/30/2012 23:00   -12.1             -15.1         78               28   \n",
      "8760   12/31/2012 0:00   -11.1             -14.4         77               26   \n",
      "\n",
      "      Visibility_km  Press_kPa        Weather  \n",
      "23             25.0      99.31         Cloudy  \n",
      "24             25.0      99.26   Rain Showers  \n",
      "25             25.0      99.26         Cloudy  \n",
      "26             25.0      99.26  Mostly Cloudy  \n",
      "27             25.0      99.30  Mostly Cloudy  \n",
      "...             ...        ...            ...  \n",
      "8705           25.0     101.34   Mainly Clear  \n",
      "8753           25.0     101.26   Mainly Clear  \n",
      "8755           25.0     101.47   Mainly Clear  \n",
      "8759           25.0     101.52  Mostly Cloudy  \n",
      "8760           25.0     101.51         Cloudy  \n",
      "\n",
      "[308 rows x 8 columns]\n"
     ]
    }
   ],
   "source": [
    "#Find all instances when wind speed is above 24 and visibility is 25\n",
    "print(data[(data[\"Wind Speed_km/h\"]>24) & (data[\"Visibility_km\"]==25)])"
   ]
  },
  {
   "cell_type": "code",
   "execution_count": 29,
   "id": "617f6222-20ae-4a57-ba00-d91a497cd951",
   "metadata": {},
   "outputs": [
    {
     "name": "stdout",
     "output_type": "stream",
     "text": [
      "                                                Date/Time  Temp_C  \\\n",
      "Weather                                                             \n",
      "Clear                                      1/11/2012 1:00   -23.3   \n",
      "Cloudy                                     1/1/2012 17:00   -21.4   \n",
      "Drizzle                                   1/23/2012 21:00     1.1   \n",
      "Drizzle,Fog                               1/23/2012 20:00     0.0   \n",
      "Drizzle,Ice Pellets,Fog                   12/17/2012 9:00     0.4   \n",
      "Drizzle,Snow                             12/17/2012 15:00     0.9   \n",
      "Drizzle,Snow,Fog                         12/18/2012 21:00     0.3   \n",
      "Fog                                         1/1/2012 0:00   -16.0   \n",
      "Freezing Drizzle                          1/13/2012 10:00    -9.0   \n",
      "Freezing Drizzle,Fog                        1/1/2012 2:00    -6.4   \n",
      "Freezing Drizzle,Haze                      2/1/2012 11:00    -5.8   \n",
      "Freezing Drizzle,Snow                      1/13/2012 3:00    -8.3   \n",
      "Freezing Fog                               1/22/2012 6:00   -19.0   \n",
      "Freezing Rain                             1/13/2012 11:00    -6.5   \n",
      "Freezing Rain,Fog                         1/17/2012 23:00    -6.1   \n",
      "Freezing Rain,Haze                         2/1/2012 14:00    -4.9   \n",
      "Freezing Rain,Ice Pellets,Fog             12/17/2012 3:00    -2.6   \n",
      "Freezing Rain,Snow Grains                  1/13/2012 9:00    -5.0   \n",
      "Haze                                      1/22/2012 12:00   -11.5   \n",
      "Mainly Clear                              1/10/2012 11:00   -22.8   \n",
      "Moderate Rain,Fog                         12/10/2012 8:00     1.7   \n",
      "Moderate Snow                             1/12/2012 15:00    -6.3   \n",
      "Moderate Snow,Blowing Snow               12/27/2012 10:00    -5.5   \n",
      "Mostly Cloudy                              1/1/2012 16:00   -23.2   \n",
      "Rain                                       1/1/2012 18:00     0.3   \n",
      "Rain Showers                               1/1/2012 22:00     1.6   \n",
      "Rain Showers,Fog                          10/20/2012 3:00    12.8   \n",
      "Rain Showers,Snow Showers                  11/4/2012 8:00     2.1   \n",
      "Rain,Fog                                  1/23/2012 18:00     0.0   \n",
      "Rain,Haze                                  3/13/2012 7:00     4.0   \n",
      "Rain,Ice Pellets                          12/18/2012 5:00     0.6   \n",
      "Rain,Snow                                  1/10/2012 5:00     0.6   \n",
      "Rain,Snow Grains                          12/21/2012 0:00     1.9   \n",
      "Rain,Snow,Fog                             12/8/2012 21:00     0.8   \n",
      "Rain,Snow,Ice Pellets                     12/21/2012 1:00     0.9   \n",
      "Snow                                       1/10/2012 1:00   -16.7   \n",
      "Snow Pellets                             11/24/2012 15:00     0.7   \n",
      "Snow Showers                               1/12/2012 7:00   -13.3   \n",
      "Snow Showers,Fog                          12/26/2012 9:00   -11.3   \n",
      "Snow,Blowing Snow                         1/13/2012 21:00   -12.0   \n",
      "Snow,Fog                                 12/16/2012 15:00   -10.1   \n",
      "Snow,Haze                                  2/1/2012 17:00    -4.3   \n",
      "Snow,Ice Pellets                          12/10/2012 3:00    -4.3   \n",
      "Thunderstorms                              7/16/2012 1:00    21.6   \n",
      "Thunderstorms,Heavy Rain Showers           5/29/2012 6:00    10.9   \n",
      "Thunderstorms,Moderate Rain Showers,Fog    7/17/2012 6:00    19.6   \n",
      "Thunderstorms,Rain                        5/25/2012 20:00    19.4   \n",
      "Thunderstorms,Rain Showers                5/29/2012 16:00    11.0   \n",
      "Thunderstorms,Rain Showers,Fog             6/29/2012 3:00    19.5   \n",
      "Thunderstorms,Rain,Fog                     7/17/2012 5:00    20.6   \n",
      "\n",
      "                                         Dew Point Temp_C  Rel Hum_%  \\\n",
      "Weather                                                                \n",
      "Clear                                               -28.5         20   \n",
      "Cloudy                                              -26.8         18   \n",
      "Drizzle                                              -0.2         74   \n",
      "Drizzle,Fog                                          -1.6         85   \n",
      "Drizzle,Ice Pellets,Fog                              -0.7         92   \n",
      "Drizzle,Snow                                          0.1         92   \n",
      "Drizzle,Snow,Fog                                     -0.1         92   \n",
      "Fog                                                 -17.2         80   \n",
      "Freezing Drizzle                                    -12.2         78   \n",
      "Freezing Drizzle,Fog                                 -9.0         82   \n",
      "Freezing Drizzle,Haze                                -8.3         81   \n",
      "Freezing Drizzle,Snow                               -10.4         79   \n",
      "Freezing Fog                                        -22.9         71   \n",
      "Freezing Rain                                        -9.0         81   \n",
      "Freezing Rain,Fog                                    -8.7         82   \n",
      "Freezing Rain,Haze                                   -7.5         82   \n",
      "Freezing Rain,Ice Pellets,Fog                        -3.7         92   \n",
      "Freezing Rain,Snow Grains                            -7.3         84   \n",
      "Haze                                                -16.0         68   \n",
      "Mainly Clear                                        -28.0         20   \n",
      "Moderate Rain,Fog                                     0.8         94   \n",
      "Moderate Snow                                        -7.6         83   \n",
      "Moderate Snow,Blowing Snow                           -6.6         92   \n",
      "Mostly Cloudy                                       -28.5         18   \n",
      "Rain                                                 -5.7         40   \n",
      "Rain Showers                                         -7.2         37   \n",
      "Rain Showers,Fog                                     12.1         96   \n",
      "Rain Showers,Snow Showers                            -1.8         75   \n",
      "Rain,Fog                                             -1.2         83   \n",
      "Rain,Haze                                             1.0         81   \n",
      "Rain,Ice Pellets                                     -0.6         92   \n",
      "Rain,Snow                                            -1.7         81   \n",
      "Rain,Snow Grains                                     -2.1         75   \n",
      "Rain,Snow,Fog                                         0.3         96   \n",
      "Rain,Snow,Ice Pellets                                -0.7         88   \n",
      "Snow                                                -24.6         41   \n",
      "Snow Pellets                                         -6.4         59   \n",
      "Snow Showers                                        -19.3         52   \n",
      "Snow Showers,Fog                                    -12.7         89   \n",
      "Snow,Blowing Snow                                   -16.2         70   \n",
      "Snow,Fog                                            -12.0         77   \n",
      "Snow,Haze                                            -7.2         80   \n",
      "Snow,Ice Pellets                                     -5.9         76   \n",
      "Thunderstorms                                        19.4         67   \n",
      "Thunderstorms,Heavy Rain Showers                      9.0         88   \n",
      "Thunderstorms,Moderate Rain Showers,Fog              18.5         93   \n",
      "Thunderstorms,Rain                                   18.2         83   \n",
      "Thunderstorms,Rain Showers                            7.0         68   \n",
      "Thunderstorms,Rain Showers,Fog                       16.1         80   \n",
      "Thunderstorms,Rain,Fog                               18.6         88   \n",
      "\n",
      "                                         Wind Speed_km/h  Visibility_km  \\\n",
      "Weather                                                                   \n",
      "Clear                                                  0           11.3   \n",
      "Cloudy                                                 0           11.3   \n",
      "Drizzle                                                0            6.4   \n",
      "Drizzle,Fog                                            0            1.0   \n",
      "Drizzle,Ice Pellets,Fog                               20            4.0   \n",
      "Drizzle,Snow                                           9            9.7   \n",
      "Drizzle,Snow,Fog                                       7            2.4   \n",
      "Fog                                                    0            0.2   \n",
      "Freezing Drizzle                                       6            4.8   \n",
      "Freezing Drizzle,Fog                                   6            3.6   \n",
      "Freezing Drizzle,Haze                                  9            2.0   \n",
      "Freezing Drizzle,Snow                                  6            2.4   \n",
      "Freezing Fog                                           0            0.2   \n",
      "Freezing Rain                                          7            2.8   \n",
      "Freezing Rain,Fog                                      7            2.8   \n",
      "Freezing Rain,Haze                                     6            2.0   \n",
      "Freezing Rain,Ice Pellets,Fog                         28            8.0   \n",
      "Freezing Rain,Snow Grains                             32            4.8   \n",
      "Haze                                                   0            4.8   \n",
      "Mainly Clear                                           0           12.9   \n",
      "Moderate Rain,Fog                                     17            6.4   \n",
      "Moderate Snow                                         26            0.6   \n",
      "Moderate Snow,Blowing Snow                            39            0.6   \n",
      "Mostly Cloudy                                          0           11.3   \n",
      "Rain                                                   0            4.0   \n",
      "Rain Showers                                           0            6.4   \n",
      "Rain Showers,Fog                                      13            6.4   \n",
      "Rain Showers,Snow Showers                             17           19.3   \n",
      "Rain,Fog                                               0            2.0   \n",
      "Rain,Haze                                              7            4.0   \n",
      "Rain,Ice Pellets                                      24            9.7   \n",
      "Rain,Snow                                             13            2.4   \n",
      "Rain,Snow Grains                                      26           25.0   \n",
      "Rain,Snow,Fog                                          9            6.4   \n",
      "Rain,Snow,Ice Pellets                                 17            4.8   \n",
      "Snow                                                   0            1.0   \n",
      "Snow Pellets                                          35            2.4   \n",
      "Snow Showers                                           0            2.4   \n",
      "Snow Showers,Fog                                       7            4.0   \n",
      "Snow,Blowing Snow                                     24            0.6   \n",
      "Snow,Fog                                               4            1.2   \n",
      "Snow,Haze                                              0            4.0   \n",
      "Snow,Ice Pellets                                      19            2.8   \n",
      "Thunderstorms                                          0           24.1   \n",
      "Thunderstorms,Heavy Rain Showers                       9            2.4   \n",
      "Thunderstorms,Moderate Rain Showers,Fog               15            3.2   \n",
      "Thunderstorms,Rain                                     4           16.1   \n",
      "Thunderstorms,Rain Showers                             7            6.4   \n",
      "Thunderstorms,Rain Showers,Fog                         7            9.7   \n",
      "Thunderstorms,Rain,Fog                                19            4.8   \n",
      "\n",
      "                                         Press_kPa  \n",
      "Weather                                             \n",
      "Clear                                        99.52  \n",
      "Cloudy                                       98.39  \n",
      "Drizzle                                      97.84  \n",
      "Drizzle,Fog                                  98.65  \n",
      "Drizzle,Ice Pellets,Fog                     100.79  \n",
      "Drizzle,Snow                                100.63  \n",
      "Drizzle,Snow,Fog                             97.79  \n",
      "Fog                                          98.31  \n",
      "Freezing Drizzle                             98.44  \n",
      "Freezing Drizzle,Fog                         98.74  \n",
      "Freezing Drizzle,Haze                       100.28  \n",
      "Freezing Drizzle,Snow                        99.19  \n",
      "Freezing Fog                                101.97  \n",
      "Freezing Rain                                98.22  \n",
      "Freezing Rain,Fog                            98.32  \n",
      "Freezing Rain,Haze                          100.34  \n",
      "Freezing Rain,Ice Pellets,Fog               100.95  \n",
      "Freezing Rain,Snow Grains                    98.56  \n",
      "Haze                                        100.35  \n",
      "Mainly Clear                                 98.67  \n",
      "Moderate Rain,Fog                            99.98  \n",
      "Moderate Snow                                99.88  \n",
      "Moderate Snow,Blowing Snow                  100.50  \n",
      "Mostly Cloudy                                98.36  \n",
      "Rain                                         97.52  \n",
      "Rain Showers                                 98.51  \n",
      "Rain Showers,Fog                             99.83  \n",
      "Rain Showers,Snow Showers                   101.09  \n",
      "Rain,Fog                                     98.61  \n",
      "Rain,Haze                                   100.50  \n",
      "Rain,Ice Pellets                            100.12  \n",
      "Rain,Snow                                    98.18  \n",
      "Rain,Snow Grains                            100.60  \n",
      "Rain,Snow,Fog                               100.73  \n",
      "Rain,Snow,Ice Pellets                        99.85  \n",
      "Snow                                         97.75  \n",
      "Snow Pellets                                 99.70  \n",
      "Snow Showers                                 99.49  \n",
      "Snow Showers,Fog                            100.63  \n",
      "Snow,Blowing Snow                            98.11  \n",
      "Snow,Fog                                     99.38  \n",
      "Snow,Haze                                   100.61  \n",
      "Snow,Ice Pellets                             99.40  \n",
      "Thunderstorms                                99.84  \n",
      "Thunderstorms,Heavy Rain Showers            100.26  \n",
      "Thunderstorms,Moderate Rain Showers,Fog     100.01  \n",
      "Thunderstorms,Rain                          100.19  \n",
      "Thunderstorms,Rain Showers                   99.65  \n",
      "Thunderstorms,Rain Showers,Fog               99.71  \n",
      "Thunderstorms,Rain,Fog                      100.08  \n"
     ]
    }
   ],
   "source": [
    "# What is the min and max value of each coloumn against each Weather Condition\n",
    "print(data.groupby(\"Weather\").min())"
   ]
  },
  {
   "cell_type": "code",
   "execution_count": 30,
   "id": "11dc2944-2480-44b0-b140-1dd115d76b06",
   "metadata": {},
   "outputs": [
    {
     "name": "stdout",
     "output_type": "stream",
     "text": [
      "                                                Date/Time  Temp_C  \\\n",
      "Weather                                                             \n",
      "Clear                                       9/9/2012 5:00    32.8   \n",
      "Cloudy                                     9/9/2012 23:00    30.5   \n",
      "Drizzle                                    9/30/2012 3:00    18.8   \n",
      "Drizzle,Fog                                9/30/2012 2:00    19.9   \n",
      "Drizzle,Ice Pellets,Fog                   12/17/2012 9:00     0.4   \n",
      "Drizzle,Snow                             12/19/2012 18:00     1.2   \n",
      "Drizzle,Snow,Fog                          12/22/2012 3:00     1.1   \n",
      "Fog                                        9/22/2012 0:00    20.8   \n",
      "Freezing Drizzle                            2/1/2012 5:00    -2.3   \n",
      "Freezing Drizzle,Fog                      12/10/2012 5:00    -0.3   \n",
      "Freezing Drizzle,Haze                      2/1/2012 13:00    -5.0   \n",
      "Freezing Drizzle,Snow                      3/2/2012 12:00    -3.3   \n",
      "Freezing Fog                               3/17/2012 6:00    -0.1   \n",
      "Freezing Rain                               2/1/2012 7:00     0.3   \n",
      "Freezing Rain,Fog                         12/17/2012 1:00     0.1   \n",
      "Freezing Rain,Haze                         2/1/2012 15:00    -4.9   \n",
      "Freezing Rain,Ice Pellets,Fog             12/17/2012 3:00    -2.6   \n",
      "Freezing Rain,Snow Grains                  1/13/2012 9:00    -5.0   \n",
      "Haze                                      3/13/2012 23:00    14.1   \n",
      "Mainly Clear                                9/9/2012 9:00    33.0   \n",
      "Moderate Rain,Fog                         12/10/2012 8:00     1.7   \n",
      "Moderate Snow                             12/27/2012 9:00    -4.9   \n",
      "Moderate Snow,Blowing Snow               12/27/2012 12:00    -5.4   \n",
      "Mostly Cloudy                               9/9/2012 2:00    32.4   \n",
      "Rain                                        9/5/2012 2:00    22.8   \n",
      "Rain Showers                               9/8/2012 16:00    26.4   \n",
      "Rain Showers,Fog                          10/20/2012 3:00    12.8   \n",
      "Rain Showers,Snow Showers                 12/5/2012 10:00     2.2   \n",
      "Rain,Fog                                  9/30/2012 23:00    21.7   \n",
      "Rain,Haze                                  3/13/2012 9:00     5.5   \n",
      "Rain,Ice Pellets                          12/18/2012 5:00     0.6   \n",
      "Rain,Snow                                  4/23/2012 3:00     1.7   \n",
      "Rain,Snow Grains                          12/21/2012 0:00     1.9   \n",
      "Rain,Snow,Fog                             12/8/2012 21:00     0.8   \n",
      "Rain,Snow,Ice Pellets                     12/21/2012 5:00     1.3   \n",
      "Snow                                       4/27/2012 9:00     3.7   \n",
      "Snow Pellets                             11/24/2012 15:00     0.7   \n",
      "Snow Showers                               3/4/2012 21:00     2.9   \n",
      "Snow Showers,Fog                         12/29/2012 13:00   -10.0   \n",
      "Snow,Blowing Snow                          2/25/2012 9:00    -1.4   \n",
      "Snow,Fog                                  3/14/2012 19:00     1.1   \n",
      "Snow,Haze                                  2/1/2012 21:00    -3.6   \n",
      "Snow,Ice Pellets                            3/3/2012 4:00     0.8   \n",
      "Thunderstorms                              7/4/2012 16:00    26.7   \n",
      "Thunderstorms,Heavy Rain Showers           5/29/2012 6:00    10.9   \n",
      "Thunderstorms,Moderate Rain Showers,Fog    7/17/2012 6:00    19.6   \n",
      "Thunderstorms,Rain                        7/23/2012 18:00    21.3   \n",
      "Thunderstorms,Rain Showers                  9/8/2012 4:00    25.5   \n",
      "Thunderstorms,Rain Showers,Fog            7/31/2012 20:00    22.9   \n",
      "Thunderstorms,Rain,Fog                     7/17/2012 5:00    20.6   \n",
      "\n",
      "                                         Dew Point Temp_C  Rel Hum_%  \\\n",
      "Weather                                                                \n",
      "Clear                                                20.4         99   \n",
      "Cloudy                                               22.6         99   \n",
      "Drizzle                                              17.7         96   \n",
      "Drizzle,Fog                                          19.1        100   \n",
      "Drizzle,Ice Pellets,Fog                              -0.7         92   \n",
      "Drizzle,Snow                                          0.2         95   \n",
      "Drizzle,Snow,Fog                                      0.6         98   \n",
      "Fog                                                  19.6        100   \n",
      "Freezing Drizzle                                     -3.3         93   \n",
      "Freezing Drizzle,Fog                                 -2.3         94   \n",
      "Freezing Drizzle,Haze                                -7.7         83   \n",
      "Freezing Drizzle,Snow                                -4.6         94   \n",
      "Freezing Fog                                         -0.3         99   \n",
      "Freezing Rain                                        -1.7         92   \n",
      "Freezing Rain,Fog                                    -0.9         93   \n",
      "Freezing Rain,Haze                                   -7.4         83   \n",
      "Freezing Rain,Ice Pellets,Fog                        -3.7         92   \n",
      "Freezing Rain,Snow Grains                            -7.3         84   \n",
      "Haze                                                 11.1         86   \n",
      "Mainly Clear                                         21.2         99   \n",
      "Moderate Rain,Fog                                     0.8         94   \n",
      "Moderate Snow                                        -6.7         93   \n",
      "Moderate Snow,Blowing Snow                           -6.4         93   \n",
      "Mostly Cloudy                                        24.4        100   \n",
      "Rain                                                 20.4         99   \n",
      "Rain Showers                                         23.0         97   \n",
      "Rain Showers,Fog                                     12.1         96   \n",
      "Rain Showers,Snow Showers                            -1.2         78   \n",
      "Rain,Fog                                             19.5        100   \n",
      "Rain,Haze                                             2.9         86   \n",
      "Rain,Ice Pellets                                     -0.6         92   \n",
      "Rain,Snow                                             0.5         94   \n",
      "Rain,Snow Grains                                     -2.1         75   \n",
      "Rain,Snow,Fog                                         0.3         96   \n",
      "Rain,Snow,Ice Pellets                                 0.1         94   \n",
      "Snow                                                  0.3         96   \n",
      "Snow Pellets                                         -6.4         59   \n",
      "Snow Showers                                         -0.7         94   \n",
      "Snow Showers,Fog                                    -11.1         92   \n",
      "Snow,Blowing Snow                                    -2.9         91   \n",
      "Snow,Fog                                              0.8         99   \n",
      "Snow,Haze                                            -6.4         81   \n",
      "Snow,Ice Pellets                                     -1.7         92   \n",
      "Thunderstorms                                        20.1         87   \n",
      "Thunderstorms,Heavy Rain Showers                      9.0         88   \n",
      "Thunderstorms,Moderate Rain Showers,Fog              18.5         93   \n",
      "Thunderstorms,Rain                                   19.1         93   \n",
      "Thunderstorms,Rain Showers                           23.1         98   \n",
      "Thunderstorms,Rain Showers,Fog                       21.3         91   \n",
      "Thunderstorms,Rain,Fog                               18.6         88   \n",
      "\n",
      "                                         Wind Speed_km/h  Visibility_km  \\\n",
      "Weather                                                                   \n",
      "Clear                                                 33           48.3   \n",
      "Cloudy                                                54           48.3   \n",
      "Drizzle                                               30           25.0   \n",
      "Drizzle,Fog                                           28            9.7   \n",
      "Drizzle,Ice Pellets,Fog                               20            4.0   \n",
      "Drizzle,Snow                                          19           11.3   \n",
      "Drizzle,Snow,Fog                                      32            9.7   \n",
      "Fog                                                   22            9.7   \n",
      "Freezing Drizzle                                      26           12.9   \n",
      "Freezing Drizzle,Fog                                  33            8.0   \n",
      "Freezing Drizzle,Haze                                 11            4.0   \n",
      "Freezing Drizzle,Snow                                 24           12.9   \n",
      "Freezing Fog                                           9            0.8   \n",
      "Freezing Rain                                         28           16.1   \n",
      "Freezing Rain,Fog                                     26            9.7   \n",
      "Freezing Rain,Haze                                     9            2.8   \n",
      "Freezing Rain,Ice Pellets,Fog                         28            8.0   \n",
      "Freezing Rain,Snow Grains                             32            4.8   \n",
      "Haze                                                  17            9.7   \n",
      "Mainly Clear                                          63           48.3   \n",
      "Moderate Rain,Fog                                     17            6.4   \n",
      "Moderate Snow                                         39            0.8   \n",
      "Moderate Snow,Blowing Snow                            41            0.6   \n",
      "Mostly Cloudy                                         83           48.3   \n",
      "Rain                                                  52           48.3   \n",
      "Rain Showers                                          41           48.3   \n",
      "Rain Showers,Fog                                      13            6.4   \n",
      "Rain Showers,Snow Showers                             28           24.1   \n",
      "Rain,Fog                                              46            9.7   \n",
      "Rain,Haze                                             17            9.7   \n",
      "Rain,Ice Pellets                                      24            9.7   \n",
      "Rain,Snow                                             52           25.0   \n",
      "Rain,Snow Grains                                      26           25.0   \n",
      "Rain,Snow,Fog                                          9            6.4   \n",
      "Rain,Snow,Ice Pellets                                 28            6.4   \n",
      "Snow                                                  57           25.0   \n",
      "Snow Pellets                                          35            2.4   \n",
      "Snow Showers                                          37           48.3   \n",
      "Snow Showers,Fog                                      22            9.7   \n",
      "Snow,Blowing Snow                                     48            9.7   \n",
      "Snow,Fog                                              35            9.7   \n",
      "Snow,Haze                                             15            6.4   \n",
      "Snow,Ice Pellets                                      33           11.3   \n",
      "Thunderstorms                                         15           25.0   \n",
      "Thunderstorms,Heavy Rain Showers                       9            2.4   \n",
      "Thunderstorms,Moderate Rain Showers,Fog               15            3.2   \n",
      "Thunderstorms,Rain                                    30           24.1   \n",
      "Thunderstorms,Rain Showers                            32           25.0   \n",
      "Thunderstorms,Rain Showers,Fog                        35            9.7   \n",
      "Thunderstorms,Rain,Fog                                19            4.8   \n",
      "\n",
      "                                         Press_kPa  \n",
      "Weather                                             \n",
      "Clear                                       103.63  \n",
      "Cloudy                                      103.65  \n",
      "Drizzle                                     101.56  \n",
      "Drizzle,Fog                                 102.07  \n",
      "Drizzle,Ice Pellets,Fog                     100.79  \n",
      "Drizzle,Snow                                101.15  \n",
      "Drizzle,Snow,Fog                            100.15  \n",
      "Fog                                         103.04  \n",
      "Freezing Drizzle                            101.02  \n",
      "Freezing Drizzle,Fog                        101.27  \n",
      "Freezing Drizzle,Haze                       100.36  \n",
      "Freezing Drizzle,Snow                       101.18  \n",
      "Freezing Fog                                102.85  \n",
      "Freezing Rain                               101.00  \n",
      "Freezing Rain,Fog                           101.01  \n",
      "Freezing Rain,Haze                          100.41  \n",
      "Freezing Rain,Ice Pellets,Fog               100.95  \n",
      "Freezing Rain,Snow Grains                    98.56  \n",
      "Haze                                        102.97  \n",
      "Mainly Clear                                103.59  \n",
      "Moderate Rain,Fog                            99.98  \n",
      "Moderate Snow                               100.67  \n",
      "Moderate Snow,Blowing Snow                  100.64  \n",
      "Mostly Cloudy                               103.65  \n",
      "Rain                                        102.26  \n",
      "Rain Showers                                102.31  \n",
      "Rain Showers,Fog                             99.83  \n",
      "Rain Showers,Snow Showers                   101.11  \n",
      "Rain,Fog                                    101.77  \n",
      "Rain,Haze                                   100.61  \n",
      "Rain,Ice Pellets                            100.12  \n",
      "Rain,Snow                                   101.07  \n",
      "Rain,Snow Grains                            100.60  \n",
      "Rain,Snow,Fog                               100.73  \n",
      "Rain,Snow,Ice Pellets                       100.47  \n",
      "Snow                                        102.73  \n",
      "Snow Pellets                                 99.70  \n",
      "Snow Showers                                102.50  \n",
      "Snow Showers,Fog                            102.52  \n",
      "Snow,Blowing Snow                           100.62  \n",
      "Snow,Fog                                    102.07  \n",
      "Snow,Haze                                   100.99  \n",
      "Snow,Ice Pellets                            100.96  \n",
      "Thunderstorms                               100.62  \n",
      "Thunderstorms,Heavy Rain Showers            100.26  \n",
      "Thunderstorms,Moderate Rain Showers,Fog     100.01  \n",
      "Thunderstorms,Rain                          100.83  \n",
      "Thunderstorms,Rain Showers                  101.06  \n",
      "Thunderstorms,Rain Showers,Fog              100.64  \n",
      "Thunderstorms,Rain,Fog                      100.08  \n"
     ]
    }
   ],
   "source": [
    "print(data.groupby(\"Weather\").max())"
   ]
  },
  {
   "cell_type": "code",
   "execution_count": 31,
   "id": "dfcf1657-01ec-46d5-81b4-26959bde5cd6",
   "metadata": {},
   "outputs": [
    {
     "name": "stdout",
     "output_type": "stream",
     "text": [
      "             Date/Time  Temp_C  Dew Point Temp_C  Rel Hum_%  Wind Speed_km/h  \\\n",
      "0        1/1/2012 0:00    -1.8              -3.9         86                4   \n",
      "1        1/1/2012 1:00    -1.8              -3.7         87                4   \n",
      "4        1/1/2012 4:00    -1.5              -3.3         88                7   \n",
      "5        1/1/2012 5:00    -1.4              -3.3         87                9   \n",
      "6        1/1/2012 6:00    -1.5              -3.1         89                7   \n",
      "...                ...     ...               ...        ...              ...   \n",
      "8716   12/29/2012 4:00   -16.0             -17.2         90                6   \n",
      "8717   12/29/2012 5:00   -14.8             -15.9         91                4   \n",
      "8718   12/29/2012 6:00   -13.8             -15.3         88                4   \n",
      "8719   12/29/2012 7:00   -14.8             -16.4         88                7   \n",
      "8722  12/29/2012 10:00   -12.0             -13.3         90                7   \n",
      "\n",
      "      Visibility_km  Press_kPa Weather  \n",
      "0               8.0     101.24     Fog  \n",
      "1               8.0     101.24     Fog  \n",
      "4               4.8     101.23     Fog  \n",
      "5               6.4     101.27     Fog  \n",
      "6               6.4     101.29     Fog  \n",
      "...             ...        ...     ...  \n",
      "8716            9.7     101.25     Fog  \n",
      "8717            6.4     101.25     Fog  \n",
      "8718            9.7     101.25     Fog  \n",
      "8719            8.0     101.22     Fog  \n",
      "8722            6.4     101.15     Fog  \n",
      "\n",
      "[150 rows x 8 columns]\n"
     ]
    }
   ],
   "source": [
    "# Show all the records where weather is fog\n",
    "print(data.groupby(\"Weather\").get_group(\"Fog\"))"
   ]
  },
  {
   "cell_type": "code",
   "execution_count": 32,
   "id": "c9fe3974-5af9-4dc1-b4ed-81bd91f5c419",
   "metadata": {},
   "outputs": [
    {
     "name": "stdout",
     "output_type": "stream",
     "text": [
      "             Date/Time  Temp_C  Dew Point Temp_C  Rel Hum_%  Wind Speed_km/h  \\\n",
      "0        1/1/2012 0:00    -1.8              -3.9         86                4   \n",
      "1        1/1/2012 1:00    -1.8              -3.7         87                4   \n",
      "4        1/1/2012 4:00    -1.5              -3.3         88                7   \n",
      "5        1/1/2012 5:00    -1.4              -3.3         87                9   \n",
      "6        1/1/2012 6:00    -1.5              -3.1         89                7   \n",
      "...                ...     ...               ...        ...              ...   \n",
      "8716   12/29/2012 4:00   -16.0             -17.2         90                6   \n",
      "8717   12/29/2012 5:00   -14.8             -15.9         91                4   \n",
      "8718   12/29/2012 6:00   -13.8             -15.3         88                4   \n",
      "8719   12/29/2012 7:00   -14.8             -16.4         88                7   \n",
      "8722  12/29/2012 10:00   -12.0             -13.3         90                7   \n",
      "\n",
      "      Visibility_km  Press_kPa Weather  \n",
      "0               8.0     101.24     Fog  \n",
      "1               8.0     101.24     Fog  \n",
      "4               4.8     101.23     Fog  \n",
      "5               6.4     101.27     Fog  \n",
      "6               6.4     101.29     Fog  \n",
      "...             ...        ...     ...  \n",
      "8716            9.7     101.25     Fog  \n",
      "8717            6.4     101.25     Fog  \n",
      "8718            9.7     101.25     Fog  \n",
      "8719            8.0     101.22     Fog  \n",
      "8722            6.4     101.15     Fog  \n",
      "\n",
      "[150 rows x 8 columns]\n"
     ]
    }
   ],
   "source": [
    "print(data[data[\"Weather\"]==\"Fog\"])"
   ]
  },
  {
   "cell_type": "code",
   "execution_count": 33,
   "id": "bdc3af63-d50f-4a5c-b512-63fd2c3ce2c6",
   "metadata": {},
   "outputs": [
    {
     "name": "stdout",
     "output_type": "stream",
     "text": [
      "             Date/Time  Temp_C  Dew Point Temp_C  Rel Hum_%  Wind Speed_km/h  \\\n",
      "67      1/3/2012 19:00   -16.9             -24.8         50               24   \n",
      "106     1/5/2012 10:00    -6.0             -10.0         73               17   \n",
      "107     1/5/2012 11:00    -5.6             -10.2         70               22   \n",
      "108     1/5/2012 12:00    -4.7              -9.6         69               20   \n",
      "109     1/5/2012 13:00    -4.4              -9.7         66               26   \n",
      "...                ...     ...               ...        ...              ...   \n",
      "8749  12/30/2012 13:00   -12.4             -16.2         73               37   \n",
      "8750  12/30/2012 14:00   -11.8             -16.1         70               37   \n",
      "8751  12/30/2012 15:00   -11.3             -15.6         70               32   \n",
      "8752  12/30/2012 16:00   -11.4             -15.5         72               26   \n",
      "8756  12/30/2012 20:00   -13.8             -16.5         80               24   \n",
      "\n",
      "      Visibility_km  Press_kPa        Weather  \n",
      "67             25.0     101.74          Clear  \n",
      "106            48.3     100.45   Mainly Clear  \n",
      "107            48.3     100.41   Mainly Clear  \n",
      "108            48.3     100.38   Mainly Clear  \n",
      "109            48.3     100.40   Mainly Clear  \n",
      "...             ...        ...            ...  \n",
      "8749           48.3     100.92  Mostly Cloudy  \n",
      "8750           48.3     100.96   Mainly Clear  \n",
      "8751           48.3     101.05   Mainly Clear  \n",
      "8752           48.3     101.15   Mainly Clear  \n",
      "8756           25.0     101.52          Clear  \n",
      "\n",
      "[3027 rows x 8 columns]\n"
     ]
    }
   ],
   "source": [
    "# Find all the instances where weather is clear or visibility is above 40\n",
    "print( data[(data[\"Weather\"]==\"Clear\") | (data[\"Visibility_km\"] > 40)])"
   ]
  },
  {
   "cell_type": "code",
   "execution_count": 34,
   "id": "b881566e-cde0-417b-8153-64387adb5375",
   "metadata": {},
   "outputs": [
    {
     "name": "stdout",
     "output_type": "stream",
     "text": [
      "             Date/Time  Temp_C  Dew Point Temp_C  Rel Hum_%  Wind Speed_km/h  \\\n",
      "106     1/5/2012 10:00    -6.0             -10.0         73               17   \n",
      "107     1/5/2012 11:00    -5.6             -10.2         70               22   \n",
      "108     1/5/2012 12:00    -4.7              -9.6         69               20   \n",
      "109     1/5/2012 13:00    -4.4              -9.7         66               26   \n",
      "110     1/5/2012 14:00    -5.1             -10.7         65               22   \n",
      "...                ...     ...               ...        ...              ...   \n",
      "8749  12/30/2012 13:00   -12.4             -16.2         73               37   \n",
      "8750  12/30/2012 14:00   -11.8             -16.1         70               37   \n",
      "8751  12/30/2012 15:00   -11.3             -15.6         70               32   \n",
      "8752  12/30/2012 16:00   -11.4             -15.5         72               26   \n",
      "8756  12/30/2012 20:00   -13.8             -16.5         80               24   \n",
      "\n",
      "      Visibility_km  Press_kPa        Weather  \n",
      "106            48.3     100.45   Mainly Clear  \n",
      "107            48.3     100.41   Mainly Clear  \n",
      "108            48.3     100.38   Mainly Clear  \n",
      "109            48.3     100.40   Mainly Clear  \n",
      "110            48.3     100.46   Mainly Clear  \n",
      "...             ...        ...            ...  \n",
      "8749           48.3     100.92  Mostly Cloudy  \n",
      "8750           48.3     100.96   Mainly Clear  \n",
      "8751           48.3     101.05   Mainly Clear  \n",
      "8752           48.3     101.15   Mainly Clear  \n",
      "8756           25.0     101.52          Clear  \n",
      "\n",
      "[2921 rows x 8 columns]\n"
     ]
    }
   ],
   "source": [
    "# Find all the instances when Weather is clear and humidity is greater than 50,   or visibility is above 40\n",
    "print( data[ ( (data[\"Weather\"]==\"Clear\") & (data['Rel Hum_%'] > 50) ) | (data[\"Visibility_km\"] > 40)] ) "
   ]
  },
  {
   "cell_type": "code",
   "execution_count": null,
   "id": "c145be51-4907-4bd9-bb38-f90839c00146",
   "metadata": {},
   "outputs": [],
   "source": []
  }
 ],
 "metadata": {
  "kernelspec": {
   "display_name": "base",
   "language": "python",
   "name": "python3"
  },
  "language_info": {
   "codemirror_mode": {
    "name": "ipython",
    "version": 3
   },
   "file_extension": ".py",
   "mimetype": "text/x-python",
   "name": "python",
   "nbconvert_exporter": "python",
   "pygments_lexer": "ipython3",
   "version": "3.12.7"
  }
 },
 "nbformat": 4,
 "nbformat_minor": 5
}
